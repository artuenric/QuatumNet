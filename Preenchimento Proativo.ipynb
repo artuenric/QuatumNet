{
 "cells": [
  {
   "cell_type": "code",
   "execution_count": null,
   "metadata": {},
   "outputs": [
    {
     "name": "stdout",
     "output_type": "stream",
     "text": [
      "Hosts inicializados\n",
      "Canais inicializados\n",
      "Pares EPRs adicionados\n"
     ]
    }
   ],
   "source": [
    "from quantumnet.components import Controller, Network\n",
    "from quantumnet.control.table import ProactiveTable\n",
    "from quantumnet.control.rule import BasicRuleProactive\n",
    "rede = Network()\n",
    "controlador = Controller(rede)\n",
    "row, col = 3, 4\n",
    "rede.set_ready_topology(\"Grade\", row, col)\n",
    "#rede.draw()"
   ]
  },
  {
   "cell_type": "code",
   "execution_count": null,
   "metadata": {},
   "outputs": [
    {
     "ename": "SyntaxError",
     "evalue": "invalid syntax (1068715007.py, line 10)",
     "output_type": "error",
     "traceback": [
      "\u001b[1;36m  Cell \u001b[1;32mIn[2], line 10\u001b[1;36m\u001b[0m\n\u001b[1;33m    host.add_match_route_rule(, route=route, rule=rule)\u001b[0m\n\u001b[1;37m                              ^\u001b[0m\n\u001b[1;31mSyntaxError\u001b[0m\u001b[1;31m:\u001b[0m invalid syntax\n"
     ]
    }
   ],
   "source": [
    "proactive = ProactiveTable()\n",
    "controlador.set_conditions_table(proactive)\n",
    "\n",
    "def add_match_route_rule_in_host_proactive(controller, alice, bob):\n",
    "    host = controlador.get_host(alice)\n",
    "    route = controlador.calculate_route(alice, bob)\n",
    "    # Cria a regra\n",
    "    rule = BasicRuleProactive()\n",
    "    # Qualifica as ações de acordo com as informações da request.\n",
    "    rule = controlador.qualify_rule(rule, route)\n",
    "    # Adiciona a rota e as ações ao host.\n",
    "    host.add_match_route_rule(request=request, route=route, rule=rule)\n",
    "    "
   ]
  }
 ],
 "metadata": {
  "kernelspec": {
   "display_name": ".venv",
   "language": "python",
   "name": "python3"
  },
  "language_info": {
   "codemirror_mode": {
    "name": "ipython",
    "version": 3
   },
   "file_extension": ".py",
   "mimetype": "text/x-python",
   "name": "python",
   "nbconvert_exporter": "python",
   "pygments_lexer": "ipython3",
   "version": "3.13.1"
  }
 },
 "nbformat": 4,
 "nbformat_minor": 2
}
