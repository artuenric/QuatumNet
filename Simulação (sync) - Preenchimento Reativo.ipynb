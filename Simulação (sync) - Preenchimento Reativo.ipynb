{
 "cells": [
  {
   "cell_type": "code",
   "execution_count": null,
   "metadata": {},
   "outputs": [],
   "source": [
    "from quantumnet.components import Controller, Network\n",
    "from quantumnet.utils import generate_random_request, register_request\n",
    "path = \"resultados/reativo/sync.csv\"\n",
    "rede = Network()\n",
    "controlador = Controller(rede)\n",
    "row, col = 3, 4\n",
    "rede.set_ready_topology(\"Grade\", row, col)\n",
    "# Criação de requisições\n",
    "fmin_range = (0.5, 1)\n",
    "neprs_range = (2, 4)\n",
    "num_requests = 1000\n",
    "requests = list(generate_random_request(len(rede.hosts)-1, fmin_range, neprs_range) for i in range(num_requests))\n",
    "requestscopy = requests.copy()"
   ]
  },
  {
   "cell_type": "code",
   "execution_count": 8,
   "metadata": {},
   "outputs": [],
   "source": [
    "# Parte adicional para simulação com timeslot\n",
    "def simulate_requests_with_timeslots(rede, requests, controlador):\n",
    "    \"\"\"\n",
    "    Simula o processamento de requests com a introdução de timeslots.\n",
    "    - Demora 1 time-slot se a regra existe.\n",
    "    - Demora 3 time-slots se uma nova regra precisa ser adicionada.\n",
    "    \"\"\"\n",
    "    current_time = 0  # Tempo global da simulação\n",
    "    for request in requests:\n",
    "        print(f\"[Time {current_time}]\")\n",
    "        alice = rede.get_host(request.alice)\n",
    "        rule = alice.find_rule_by_request(request)\n",
    "\n",
    "        if rule == False:  # Caso não exista um match na tabela\n",
    "            request.starttime = current_time\n",
    "            current_time += 3  # Delay de 3 time-slots para registrar nova regra\n",
    "            controlador.add_match_route_rule_in_host_reactive(request)\n",
    "            rule = alice.find_rule_by_request(request)\n",
    "            controlador.run_rule(rule[1])\n",
    "            request.endtime = current_time\n",
    "            \n",
    "            # Registra no CSV como um novo registro\n",
    "            register_request(request, \"Novo Registro\", path)\n",
    "        else:  # Caso já exista a regra\n",
    "            request.starttime = current_time\n",
    "            current_time += 1  # Delay de 1 time-slot para execução\n",
    "            controlador.run_rule(rule[1])\n",
    "            request.endtime = current_time\n",
    "            \n",
    "            # Registra no CSV como já registrado\n",
    "            register_request(request, \"Já Registrado\", path)\n",
    "        \n",
    "        # Exibir informações da requisição\n",
    "        print(f\"Request {request}: Start Time = {request.starttime}, End Time = {request.endtime}\")\n"
   ]
  },
  {
   "cell_type": "code",
   "execution_count": null,
   "metadata": {},
   "outputs": [],
   "source": [
    "simulate_requests_with_timeslots(rede, requests, controlador)"
   ]
  }
 ],
 "metadata": {
  "kernelspec": {
   "display_name": ".venv",
   "language": "python",
   "name": "python3"
  },
  "language_info": {
   "codemirror_mode": {
    "name": "ipython",
    "version": 3
   },
   "file_extension": ".py",
   "mimetype": "text/x-python",
   "name": "python",
   "nbconvert_exporter": "python",
   "pygments_lexer": "ipython3",
   "version": "3.13.1"
  }
 },
 "nbformat": 4,
 "nbformat_minor": 2
}
