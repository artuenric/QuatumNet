{
 "cells": [
  {
   "cell_type": "code",
   "execution_count": 1,
   "metadata": {},
   "outputs": [
    {
     "name": "stdout",
     "output_type": "stream",
     "text": [
      "Hosts inicializados\n",
      "Canais inicializados\n",
      "Pares EPRs adicionados\n",
      "Hosts: 12\n",
      "Requisições: [<quantumnet.objects.request.Request object at 0x0000020688D582F0>, <quantumnet.objects.request.Request object at 0x0000020688856490>, <quantumnet.objects.request.Request object at 0x00000206888565D0>, <quantumnet.objects.request.Request object at 0x000002068884AC40>, <quantumnet.objects.request.Request object at 0x000002068884AD70>]\n"
     ]
    }
   ],
   "source": [
    "from quantumnet.components import Controller, Network\n",
    "from quantumnet.utils import generate_random_request\n",
    "from quantumnet.objects import Request\n",
    "rede = Network()\n",
    "controlador = Controller(rede)\n",
    "row, col = 3, 4\n",
    "rede.set_ready_topology(\"Grade\", row, col)\n",
    "# Criação de requisições\n",
    "fmin_range = (0.5, 1)\n",
    "neprs_range = (2, 4)\n",
    "num_requests = 5\n",
    "print(\"Hosts:\", len(rede.hosts))    \n",
    "requests = list(generate_random_request(len(rede.hosts)-1, fmin_range, neprs_range) for i in range(num_requests))\n",
    "requestscopy = requests.copy()\n",
    "print(\"Requisições:\", requests)"
   ]
  },
  {
   "cell_type": "code",
   "execution_count": 2,
   "metadata": {},
   "outputs": [],
   "source": [
    "# Parte adicional para simulação com timeslot\n",
    "def simulate_requests_with_timeslots(rede, requests, controlador):\n",
    "    \"\"\"\n",
    "    Simula o processamento de requests com a introdução de timeslots.\n",
    "    - Demora 1 time-slot se a regra existe.\n",
    "    - Demora 3 time-slots se uma nova regra precisa ser adicionada.\n",
    "    \"\"\"\n",
    "    current_time = 0  # Tempo global da simulação\n",
    "    for request in requests:\n",
    "        alice = rede.get_host(request.alice)\n",
    "        rule = alice.find_rule_by_request(request)\n",
    "\n",
    "        if rule == False:  # Caso não exista um match na tabela\n",
    "            request.starttime = current_time\n",
    "            current_time += 3  # Delay de 3 time-slots para registrar nova regra\n",
    "            controlador.add_match_route_rule_in_host_reactive(request)\n",
    "            rule = alice.find_rule_by_request(request)\n",
    "            controlador.run_rule(rule[1])\n",
    "            request.endtime = current_time\n",
    "        else:  # Caso já exista a regra\n",
    "            request.starttime = current_time\n",
    "            current_time += 1  # Delay de 1 time-slot para execução\n",
    "            controlador.run_rule(rule[1])\n",
    "            request.endtime = current_time\n",
    "        \n",
    "        # Exibir informações da requisição\n",
    "        print(f\"Request {request}: Start Time = {request.starttime}, End Time = {request.endtime}\")"
   ]
  },
  {
   "cell_type": "code",
   "execution_count": 3,
   "metadata": {},
   "outputs": [
    {
     "name": "stdout",
     "output_type": "stream",
     "text": [
      "Decisão aplicada: (Normal E2E,)\n",
      "Passo: 1\n",
      "Passo: 2\n",
      "    Ação: Swap(10-6-2)\n",
      "Running Swap(10-6-2)\n",
      "Request R-D582F0: Start Time = 0, End Time = 3\n",
      "Decisão aplicada: (Normal E2E,)\n",
      "Passo: 1\n",
      "Passo: 2\n",
      "    Ação: Swap(9-5-6)\n",
      "Running Swap(9-5-6)\n",
      "Request R-856490: Start Time = 3, End Time = 6\n",
      "Decisão aplicada: (Normal E2E,)\n",
      "Passo: 1\n",
      "Request R-8565D0: Start Time = 6, End Time = 9\n",
      "Decisão aplicada: (Normal E2E,)\n",
      "Passo: 1\n",
      "Passo: 2\n",
      "    Ação: Swap(10-2-1)\n",
      "Running Swap(10-2-1)\n",
      "Request R-84AC40: Start Time = 9, End Time = 12\n",
      "Decisão aplicada: (Normal E2E,)\n",
      "Passo: 1\n",
      "Passo: 2\n",
      "    Ação: Swap(3-2-6)\n",
      "Running Swap(3-2-6)\n",
      "Request R-84AD70: Start Time = 12, End Time = 15\n"
     ]
    }
   ],
   "source": [
    "simulate_requests_with_timeslots(rede, requests, controlador)"
   ]
  },
  {
   "cell_type": "code",
   "execution_count": 4,
   "metadata": {},
   "outputs": [
    {
     "name": "stdout",
     "output_type": "stream",
     "text": [
      "Time Slot: 0\n",
      "Passo: 1\n",
      "Passo: 2\n",
      "    Ação: Swap(10-6-2)\n",
      "Running Swap(10-6-2)\n",
      "Request R-D582F0: Start Time = 0, End Time = 1\n",
      "Time Slot: 1\n",
      "Passo: 1\n",
      "Passo: 2\n",
      "    Ação: Swap(9-5-6)\n",
      "Running Swap(9-5-6)\n",
      "Request R-856490: Start Time = 1, End Time = 2\n",
      "Time Slot: 2\n",
      "Passo: 1\n",
      "Request R-8565D0: Start Time = 2, End Time = 3\n",
      "Time Slot: 3\n",
      "Passo: 1\n",
      "Passo: 2\n",
      "    Ação: Swap(10-2-1)\n",
      "Running Swap(10-2-1)\n",
      "Request R-84AC40: Start Time = 3, End Time = 4\n",
      "Time Slot: 4\n",
      "Passo: 1\n",
      "Passo: 2\n",
      "    Ação: Swap(3-2-6)\n",
      "Running Swap(3-2-6)\n",
      "Request R-84AD70: Start Time = 4, End Time = 5\n"
     ]
    }
   ],
   "source": [
    "# Parte adicional para simulação com timeslot\n",
    "def simulate_requests_with_timeslots(rede, requests, controlador):\n",
    "    \"\"\"\n",
    "    Simula o processamento de requests com timeslots contínuos.\n",
    "    - O tempo passa de 1 em 1 independentemente da requisição.\n",
    "    - Nova regra leva 3 time-slots para ser registrada.\n",
    "    - As regras são executadas no momento correto assim que o tempo alcança o necessário.\n",
    "    \"\"\"\n",
    "    current_time = 0  # Tempo global da simulação\n",
    "    pending_requests = []  # Lista de requisições pendentes para registro\n",
    "    \n",
    "    while requests or pending_requests:\n",
    "        # Log do tempo atual\n",
    "        print(f\"Time Slot: {current_time}\")\n",
    "        # Processar requests pendentes para execução\n",
    "        for pending in pending_requests[:]:\n",
    "            if pending['start_time'] + 3 == current_time:  # Após 3 time-slots\n",
    "                controlador.add_match_route_rule_in_host_reactive(pending['request'])\n",
    "                pending['request'].endtime = current_time\n",
    "                print(f\"Request {pending['request']}: Start Time = {pending['request'].starttime}, End Time = {pending['request'].endtime}\")\n",
    "                pending_requests.remove(pending)\n",
    "        \n",
    "        # Processar nova requisição apenas se ainda há requests\n",
    "        if requests:\n",
    "            request = requests.pop(0)\n",
    "            alice = rede.get_host(request.alice)\n",
    "            rule = alice.find_rule_by_request(request)\n",
    "            \n",
    "            if rule == False:  # Caso não exista um match na tabela\n",
    "                request.starttime = current_time\n",
    "                pending_requests.append({'request': request, 'start_time': current_time})\n",
    "            else:  # Caso já exista a regra\n",
    "                request.starttime = current_time\n",
    "                controlador.run_rule(rule[1])\n",
    "                request.endtime = current_time + 1\n",
    "                print(f\"Request {request}: Start Time = {request.starttime}, End Time = {request.endtime}\")\n",
    "        \n",
    "        # Incrementar o tempo global\n",
    "        current_time += 1\n",
    "    \n",
    "simulate_requests_with_timeslots(rede, requests, controlador)"
   ]
  },
  {
   "cell_type": "code",
   "execution_count": 5,
   "metadata": {},
   "outputs": [
    {
     "name": "stdout",
     "output_type": "stream",
     "text": [
      "Time Slot: 0\n",
      "Passo: 1\n",
      "Passo: 2\n",
      "    Ação: Swap(10-6-2)\n",
      "Running Swap(10-6-2)\n",
      "Request R-D582F0: Start Time = 0, End Time = 1\n",
      "Time Slot: 1\n",
      "Passo: 1\n",
      "Passo: 2\n",
      "    Ação: Swap(9-5-6)\n",
      "Running Swap(9-5-6)\n",
      "Request R-856490: Start Time = 1, End Time = 2\n",
      "Time Slot: 2\n",
      "Passo: 1\n",
      "Request R-8565D0: Start Time = 2, End Time = 3\n",
      "Time Slot: 3\n",
      "Passo: 1\n",
      "Passo: 2\n",
      "    Ação: Swap(10-2-1)\n",
      "Running Swap(10-2-1)\n",
      "Request R-84AC40: Start Time = 3, End Time = 4\n",
      "Time Slot: 4\n",
      "Passo: 1\n",
      "Passo: 2\n",
      "    Ação: Swap(3-2-6)\n",
      "Running Swap(3-2-6)\n",
      "Request R-84AD70: Start Time = 4, End Time = 5\n"
     ]
    }
   ],
   "source": [
    "simulate_requests_with_timeslots(rede, requestscopy, controlador)"
   ]
  }
 ],
 "metadata": {
  "kernelspec": {
   "display_name": ".venv",
   "language": "python",
   "name": "python3"
  },
  "language_info": {
   "codemirror_mode": {
    "name": "ipython",
    "version": 3
   },
   "file_extension": ".py",
   "mimetype": "text/x-python",
   "name": "python",
   "nbconvert_exporter": "python",
   "pygments_lexer": "ipython3",
   "version": "3.13.1"
  }
 },
 "nbformat": 4,
 "nbformat_minor": 2
}
