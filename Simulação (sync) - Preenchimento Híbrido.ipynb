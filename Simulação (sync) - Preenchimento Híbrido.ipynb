{
 "cells": [
  {
   "cell_type": "code",
   "execution_count": 1,
   "metadata": {},
   "outputs": [
    {
     "ename": "TypeError",
     "evalue": "LinkLayer.__init__() takes 2 positional arguments but 3 were given",
     "output_type": "error",
     "traceback": [
      "\u001b[1;31m---------------------------------------------------------------------------\u001b[0m",
      "\u001b[1;31mTypeError\u001b[0m                                 Traceback (most recent call last)",
      "Cell \u001b[1;32mIn[1], line 6\u001b[0m\n\u001b[0;32m      4\u001b[0m \u001b[38;5;28;01mimport\u001b[39;00m \u001b[38;5;21;01masyncio\u001b[39;00m\n\u001b[0;32m      5\u001b[0m path \u001b[38;5;241m=\u001b[39m \u001b[38;5;124m\"\u001b[39m\u001b[38;5;124mresultados/proativo/sync.csv\u001b[39m\u001b[38;5;124m\"\u001b[39m\n\u001b[1;32m----> 6\u001b[0m rede \u001b[38;5;241m=\u001b[39m \u001b[43mNetwork\u001b[49m\u001b[43m(\u001b[49m\u001b[43m)\u001b[49m\n\u001b[0;32m      7\u001b[0m rede\u001b[38;5;241m.\u001b[39mn_initial_eprs \u001b[38;5;241m=\u001b[39m \u001b[38;5;241m10\u001b[39m\n\u001b[0;32m      8\u001b[0m rede\u001b[38;5;241m.\u001b[39mn_initial_qubits \u001b[38;5;241m=\u001b[39m \u001b[38;5;241m10\u001b[39m\n",
      "File \u001b[1;32mc:\\Users\\ratu\\Documents\\GitHub\\QuatumNet\\quantumnet\\components\\network.py:23\u001b[0m, in \u001b[0;36mNetwork.__init__\u001b[1;34m(self, n_initial_qubits)\u001b[0m\n\u001b[0;32m     21\u001b[0m \u001b[38;5;66;03m# Camadas\u001b[39;00m\n\u001b[0;32m     22\u001b[0m \u001b[38;5;28mself\u001b[39m\u001b[38;5;241m.\u001b[39m_physical \u001b[38;5;241m=\u001b[39m PhysicalLayer(\u001b[38;5;28mself\u001b[39m)\n\u001b[1;32m---> 23\u001b[0m \u001b[38;5;28mself\u001b[39m\u001b[38;5;241m.\u001b[39m_link \u001b[38;5;241m=\u001b[39m \u001b[43mLinkLayer\u001b[49m\u001b[43m(\u001b[49m\u001b[38;5;28;43mself\u001b[39;49m\u001b[43m,\u001b[49m\u001b[43m \u001b[49m\u001b[38;5;28;43mself\u001b[39;49m\u001b[38;5;241;43m.\u001b[39;49m\u001b[43m_physical\u001b[49m\u001b[43m)\u001b[49m\n\u001b[0;32m     24\u001b[0m \u001b[38;5;28mself\u001b[39m\u001b[38;5;241m.\u001b[39m_network \u001b[38;5;241m=\u001b[39m NetworkLayer(\u001b[38;5;28mself\u001b[39m)\n\u001b[0;32m     25\u001b[0m \u001b[38;5;28mself\u001b[39m\u001b[38;5;241m.\u001b[39m_transport \u001b[38;5;241m=\u001b[39m TransportLayer(\u001b[38;5;28mself\u001b[39m, \u001b[38;5;28mself\u001b[39m\u001b[38;5;241m.\u001b[39m_network, \u001b[38;5;28mself\u001b[39m\u001b[38;5;241m.\u001b[39m_link, \u001b[38;5;28mself\u001b[39m\u001b[38;5;241m.\u001b[39m_physical)\n",
      "\u001b[1;31mTypeError\u001b[0m: LinkLayer.__init__() takes 2 positional arguments but 3 were given"
     ]
    }
   ],
   "source": [
    "from quantumnet.components import Controller, Network\n",
    "from quantumnet.utils import generate_random_request, register_request\n",
    "from quantumnet.objects import Request, time\n",
    "import asyncio\n",
    "path = \"resultados/proativo/sync.csv\"\n",
    "rede = Network()\n",
    "rede.n_initial_eprs = 10\n",
    "rede.n_initial_qubits = 10\n",
    "controlador = Controller(rede)\n",
    "controlador.default_ttl = 100\n",
    "row, col = 3, 4\n",
    "rede.set_ready_topology(\"Grade\", row, col)\n",
    "# Criação de requisições\n",
    "fmin_range = (0.5, 1)\n",
    "neprs_range = (2, 4)\n",
    "num_requests = 100\n",
    "requests = list(generate_random_request(len(rede.hosts)-1, fmin_range, neprs_range) for i in range(num_requests))"
   ]
  },
  {
   "cell_type": "code",
   "execution_count": null,
   "metadata": {},
   "outputs": [],
   "source": [
    "hosts = rede.hosts\n",
    "for alice in hosts:\n",
    "    print(f\"Adicionando regras para {alice}\")\n",
    "    for bob in hosts:\n",
    "        controlador.add_match_route_rule_in_host_proactive(alice, bob, (0.5, 0.6), 5)\n",
    "        controlador.add_match_route_rule_in_host_proactive(alice, bob, (0.8, 0.9), 5)\n",
    "    # Mostra as tabelas\n",
    "    #rede.get_host(alice).draw_flow_table()"
   ]
  },
  {
   "cell_type": "code",
   "execution_count": 3,
   "metadata": {},
   "outputs": [],
   "source": [
    "def update_rules(host, time_for_update):\n",
    "    for match in host.flow_table.copy():\n",
    "        rule = host.flow_table[match][1]\n",
    "        \n",
    "        for t in range(time_for_update):\n",
    "            rule.increment_age()\n",
    "            \n",
    "        if rule.ttl <= rule.age:\n",
    "            if rule.hit_count == 0:\n",
    "                host.flow_table.pop(match)\n",
    "                print(f\"[Time {time.get_current_time()}] Regra {rule} expirada em {host}\")\n",
    "            else:\n",
    "                print(f\"Regra reutilizada {rule} em {host}\")\n",
    "                rule.hit_count = 0\n",
    "                rule.age = rule.ttl/2\n",
    "\n",
    "def update_time(time_for_update):\n",
    "    # Atualiza o tempo\n",
    "    for t in range(time_for_update):\n",
    "        time.increment()\n",
    "        if time.get_current_time() % 10 == 0:\n",
    "            rede.refresh_resources(num_qubits=10, num_eprs=10)\n",
    "            print(f\"[Time {time.get_current_time()}] Recursos atualizados\")\n",
    "            \n",
    "    # Atualiza as regras\n",
    "    for host in rede.hosts:\n",
    "        update_rules(rede.get_host(host), time_for_update)"
   ]
  },
  {
   "cell_type": "code",
   "execution_count": null,
   "metadata": {},
   "outputs": [],
   "source": [
    "# Parte adicional para simulação com timeslot\n",
    "def simulate_requests_with_timeslots(rede, requests, controlador, time):\n",
    "    \"\"\"\n",
    "    Simula o processamento de requests com a introdução de timeslots.\n",
    "    - Demora 1 time-slot se a regra existe.\n",
    "    - Demora 3 time-slots se uma nova regra precisa ser adicionada.\n",
    "    \"\"\"\n",
    "    for request in requests:\n",
    "        print(f\"[Time {time.get_current_time()}] Processando requisição {request}...\")\n",
    "        alice = rede.get_host(request.alice)\n",
    "        rule = alice.find_rule_by_request(request)\n",
    "\n",
    "        if rule == False:  # Caso não exista um match na tabela\n",
    "            request.starttime = time.get_current_time()\n",
    "            update_time(3)\n",
    "            controlador.add_match_route_rule_in_host_reactive(request)\n",
    "            rule = alice.find_rule_by_request(request)\n",
    "            controlador.run_rule(rule[1])\n",
    "            request.endtime = time.get_current_time() \n",
    "            # Registra no CSV como um novo registro\n",
    "            register_request(request, \"Novo Registro\", path)\n",
    "        else:  # Caso já exista a regra\n",
    "            request.starttime = time.get_current_time()\n",
    "            update_time(1)\n",
    "            controlador.run_rule(rule[1])\n",
    "            request.endtime = time.get_current_time()\n",
    "            # Registra no CSV como já registrado\n",
    "            register_request(request, \"Já Registrado\", path)\n",
    "        \n",
    "        # Exibir informações da requisição\n",
    "        print(f\"Request {request}: Start Time = {request.starttime}, End Time = {request.endtime}\")\n",
    "\n",
    "simulate_requests_with_timeslots(rede, requests, controlador, time)"
   ]
  }
 ],
 "metadata": {
  "kernelspec": {
   "display_name": ".venv",
   "language": "python",
   "name": "python3"
  },
  "language_info": {
   "codemirror_mode": {
    "name": "ipython",
    "version": 3
   },
   "file_extension": ".py",
   "mimetype": "text/x-python",
   "name": "python",
   "nbconvert_exporter": "python",
   "pygments_lexer": "ipython3",
   "version": "3.13.1"
  }
 },
 "nbformat": 4,
 "nbformat_minor": 2
}
