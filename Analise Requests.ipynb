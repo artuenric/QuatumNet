{
 "cells": [
  {
   "cell_type": "markdown",
   "metadata": {},
   "source": [
    "# <b>Avalia o comportamento das Requests</b>\n",
    "\n",
    "Como e quando as requests são atendidas."
   ]
  },
  {
   "cell_type": "code",
   "execution_count": 1,
   "metadata": {},
   "outputs": [],
   "source": [
    "# Importando as dependências\n",
    "from quantumnet.components import Controller, Network\n",
    "from utils import *\n",
    "from quantumnet.objects import time"
   ]
  },
  {
   "cell_type": "markdown",
   "metadata": {},
   "source": [
    "Proativo: Informações da Simulação"
   ]
  },
  {
   "cell_type": "code",
   "execution_count": 6,
   "metadata": {},
   "outputs": [],
   "source": [
    "network_info = {\n",
    "    'n_initial_qubits': 10,\n",
    "    'n_initial_eprs': 10,\n",
    "    'topology_name': 'Grade',\n",
    "    'topology_params': (3, 4),\n",
    "}\n",
    "controller_info = {\n",
    "    'default_ttl': 10,\n",
    "}\n",
    "request_info = {\n",
    "    'num_hosts': 12,\n",
    "    'n_requests': 100,\n",
    "    'traffic_type': 'random',\n",
    "    'burst_probability': 0.3,\n",
    "    'burst_size': 2,\n",
    "    'fmin_range': (0.5, 1.0),\n",
    "    'eprs_range': (1, 10),\n",
    "    }"
   ]
  },
  {
   "cell_type": "code",
   "execution_count": 7,
   "metadata": {},
   "outputs": [],
   "source": [
    "# Rede\n",
    "rede = Network()\n",
    "rede.n_initial_qubits = network_info['n_initial_qubits']\n",
    "rede.n_initial_eprs = network_info['n_initial_eprs']\n",
    "rede.set_ready_topology(network_info['topology_name'], network_info['topology_params'])\n",
    "# Controlador\n",
    "controlador = Controller(rede)\n",
    "controlador.default_ttl = controller_info['default_ttl']\n",
    "# Requisições\n",
    "requests = generate_traffic(request_info)"
   ]
  },
  {
   "cell_type": "code",
   "execution_count": 4,
   "metadata": {},
   "outputs": [],
   "source": []
  }
 ],
 "metadata": {
  "kernelspec": {
   "display_name": "Python 3",
   "language": "python",
   "name": "python3"
  },
  "language_info": {
   "codemirror_mode": {
    "name": "ipython",
    "version": 3
   },
   "file_extension": ".py",
   "mimetype": "text/x-python",
   "name": "python",
   "nbconvert_exporter": "python",
   "pygments_lexer": "ipython3",
   "version": "3.12.0"
  }
 },
 "nbformat": 4,
 "nbformat_minor": 2
}
