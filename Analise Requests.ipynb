{
 "cells": [
  {
   "cell_type": "markdown",
   "metadata": {},
   "source": [
    "# <b>Avalia o comportamento das Requests</b>\n",
    "\n",
    "Como e quando as requests são atendidas."
   ]
  },
  {
   "cell_type": "code",
   "execution_count": 6,
   "metadata": {},
   "outputs": [],
   "source": [
    "# Importando as dependências\n",
    "from quantumnet.components import Controller, Network\n",
    "from utils import *\n",
    "from quantumnet.objects import time"
   ]
  },
  {
   "cell_type": "markdown",
   "metadata": {},
   "source": [
    "Informações da Simulação"
   ]
  },
  {
   "cell_type": "code",
   "execution_count": 7,
   "metadata": {},
   "outputs": [],
   "source": [
    "network_info = {\n",
    "    'n_initial_qubits': 10,\n",
    "    'n_initial_eprs': 10,\n",
    "    'topology_name': 'Grade',\n",
    "    'topology_params': (3, 4),\n",
    "}\n",
    "controller_info = {\n",
    "    'default_ttl': 10,\n",
    "}\n",
    "request_info = {\n",
    "    'fidelity_min_range' : (0.5, 1),\n",
    "    'neprs_range': (1, 10),\n",
    "    'num_requests': 100,\n",
    "}"
   ]
  },
  {
   "cell_type": "code",
   "execution_count": 8,
   "metadata": {},
   "outputs": [],
   "source": [
    "# Rede\n",
    "rede = Network()\n",
    "rede.n_initial_qubits = network_info['n_initial_qubits']\n",
    "rede.n_initial_eprs = network_info['n_initial_eprs']\n",
    "rede.set_ready_topology(network_info['topology_name'], network_info['topology_params'])\n",
    "# Controlador\n",
    "controlador = Controller(rede)\n",
    "controlador.default_ttl = controller_info['default_ttl']\n",
    "# Requisições\n"
   ]
  },
  {
   "cell_type": "code",
   "execution_count": 5,
   "metadata": {},
   "outputs": [],
   "source": [
    "# Caminho do arquivo de saída\n",
    "path = \"resultados/proativo/qubits_eprs_sync.csv\"\n",
    "# Limpa o arquivo de saída\n",
    "clear_file(path)\n",
    "\n",
    "# Sobre a rede\n",
    "rede = Network()\n",
    "rede.n_initial_eprs = 10\n",
    "rede.n_initial_qubits = 10\n",
    "row, col = 3, 4\n",
    "rede.set_ready_topology(\"Grade\", (row, col))\n",
    "\n",
    "# Sobre o controlador\n",
    "controlador = Controller(rede)\n",
    "controlador.default_ttl = 100\n",
    "\n",
    "# Sobre as requisições\n",
    "fmin_range = (0.5, 1)\n",
    "neprs_range = (2, 4)\n",
    "num_requests = 100\n",
    "requests = list(generate_random_request(len(rede.hosts)-1, fmin_range, neprs_range) for i in range(num_requests))"
   ]
  }
 ],
 "metadata": {
  "kernelspec": {
   "display_name": "Python 3",
   "language": "python",
   "name": "python3"
  },
  "language_info": {
   "codemirror_mode": {
    "name": "ipython",
    "version": 3
   },
   "file_extension": ".py",
   "mimetype": "text/x-python",
   "name": "python",
   "nbconvert_exporter": "python",
   "pygments_lexer": "ipython3",
   "version": "3.12.0"
  }
 },
 "nbformat": 4,
 "nbformat_minor": 2
}
