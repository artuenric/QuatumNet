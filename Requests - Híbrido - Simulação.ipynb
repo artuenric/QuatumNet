{
 "cells": [
  {
   "cell_type": "markdown",
   "metadata": {},
   "source": [
    "# Preenchimento híbrido\n",
    "Mostra o comportamento da rede utilizando os dois tipos de preenchimento. Essa simulação registra informações das ``requests``:\n",
    "\n",
    "    - ID da requisição \n",
    "    - Alice\n",
    "    - Bob\n",
    "    - Fidelidade Mínima\n",
    "    - Número de EPRs\n",
    "    - Início (Quando começou a ser tratada)\n",
    "    - Término (Quando foi atendida)\n",
    "    - Novo Registro (Se foi necessário criar uma regra para atender, ou se já foi registrado)"
   ]
  },
  {
   "cell_type": "code",
   "execution_count": 1,
   "metadata": {},
   "outputs": [],
   "source": [
    "# Importando as dependências\n",
    "from quantumnet.components import Controller, Network\n",
    "from quantumnet.utils import generate_random_request, register_request, clear_file\n",
    "from quantumnet.objects import time"
   ]
  },
  {
   "cell_type": "markdown",
   "metadata": {},
   "source": [
    "Informações para a simulação"
   ]
  },
  {
   "cell_type": "code",
   "execution_count": 2,
   "metadata": {},
   "outputs": [],
   "source": [
    "# Caminho do arquivo de saída\n",
    "path = \"resultados/hibrido/sync.csv\"\n",
    "# Limpa o arquivo de saída\n",
    "clear_file(path)\n",
    "# Sobre a rede\n",
    "rede = Network()\n",
    "rede.n_initial_eprs = 10\n",
    "rede.n_initial_qubits = 10\n",
    "row, col = 3, 4\n",
    "rede.set_ready_topology(\"Grade\", (row, col))\n",
    "# Sobre o controlador\n",
    "controlador = Controller(rede)\n",
    "controlador.default_ttl = 100\n",
    "# Sobre as requisições\n",
    "fmin_range = (0.5, 1)\n",
    "neprs_range = (2, 4)\n",
    "num_requests = 100\n",
    "requests = list(generate_random_request(len(rede.hosts), fmin_range, neprs_range) for i in range(num_requests))"
   ]
  },
  {
   "cell_type": "markdown",
   "metadata": {},
   "source": [
    "Preenchimento proativo"
   ]
  },
  {
   "cell_type": "code",
   "execution_count": null,
   "metadata": {},
   "outputs": [],
   "source": [
    "hosts = rede.hosts\n",
    "for alice in hosts:\n",
    "    print(f\"Adicionando regras para {alice}\")\n",
    "    for bob in hosts:\n",
    "        controlador.add_match_route_rule_in_host_proactive(alice, bob, (0.5, 0.6), 5)\n",
    "        controlador.add_match_route_rule_in_host_proactive(alice, bob, (0.8, 0.9), 5)\n",
    "    # Mostra as tabelas\n",
    "    rede.get_host(alice).draw_flow_table()"
   ]
  },
  {
   "cell_type": "markdown",
   "metadata": {},
   "source": [
    "Funções responsáveis pela passagem de tempo"
   ]
  },
  {
   "cell_type": "code",
   "execution_count": 4,
   "metadata": {},
   "outputs": [],
   "source": [
    "def update_time(time_for_update):\n",
    "    \"\"\"\n",
    "    Atualiza o tempo e as regras\n",
    "\n",
    "    Args:\n",
    "        time_for_update (int): Tempo para incrementar o time-slot.\n",
    "    \"\"\"\n",
    "    # Atualiza o tempo\n",
    "    for t in range(time_for_update):\n",
    "        time.increment()\n",
    "        # Atualiza os recursos de 10 em 10\n",
    "        if time.get_current_time() % 10 == 0:\n",
    "            rede.refresh_resources(num_qubits=10, num_eprs=10)\n",
    "            print(f\"[Time {time.get_current_time()}] Recursos atualizados\")"
   ]
  },
  {
   "cell_type": "markdown",
   "metadata": {},
   "source": [
    "Preenchimento reativo, baseado nas requests.\n",
    "\n",
    "    - Demora 1 time-slot se a regra existe.\n",
    "    - Demora 3 time-slots se uma nova regra precisa ser adicionada."
   ]
  },
  {
   "cell_type": "code",
   "execution_count": null,
   "metadata": {},
   "outputs": [],
   "source": [
    "for request in requests:\n",
    "        print(f\"[Time {time.get_current_time()}] Processando requisição {request}...\")\n",
    "        alice = rede.get_host(request.alice)\n",
    "        rule = alice.find_rule_by_request(request)\n",
    "\n",
    "        if rule == False:  # Caso não exista um match na tabela\n",
    "            request.starttime = time.get_current_time()\n",
    "            update_time(3)\n",
    "            controlador.add_match_route_rule_in_host_reactive(request)\n",
    "            rule = alice.find_rule_by_request(request)\n",
    "            controlador.run_rule(rule[1])\n",
    "            request.endtime = time.get_current_time() \n",
    "            # Registra no CSV como um novo registro\n",
    "            register_request(request, \"Novo Registro\", path)\n",
    "        else:  # Caso já exista a regra\n",
    "            request.starttime = time.get_current_time()\n",
    "            update_time(1)\n",
    "            controlador.run_rule(rule[1])\n",
    "            request.endtime = time.get_current_time()\n",
    "            # Registra no CSV como já registrado\n",
    "            register_request(request, \"Já Registrado\", path)\n",
    "        \n",
    "        # Exibir informações da requisição\n",
    "        print(f\"Request {request}: Start Time = {request.starttime}, End Time = {request.endtime}\")"
   ]
  },
  {
   "cell_type": "markdown",
   "metadata": {},
   "source": [
    "Registro de recursos"
   ]
  },
  {
   "cell_type": "code",
   "execution_count": null,
   "metadata": {},
   "outputs": [],
   "source": [
    "rede.registry_of_resources"
   ]
  },
  {
   "cell_type": "markdown",
   "metadata": {},
   "source": [
    "Tabelas ao final"
   ]
  },
  {
   "cell_type": "code",
   "execution_count": null,
   "metadata": {},
   "outputs": [],
   "source": [
    "for alice in hosts:\n",
    "    print(f\"Regras de {alice}\")\n",
    "    rede.get_host(alice).draw_flow_table()"
   ]
  }
 ],
 "metadata": {
  "kernelspec": {
   "display_name": ".venv",
   "language": "python",
   "name": "python3"
  },
  "language_info": {
   "codemirror_mode": {
    "name": "ipython",
    "version": 3
   },
   "file_extension": ".py",
   "mimetype": "text/x-python",
   "name": "python",
   "nbconvert_exporter": "python",
   "pygments_lexer": "ipython3",
   "version": "3.13.1"
  }
 },
 "nbformat": 4,
 "nbformat_minor": 2
}
