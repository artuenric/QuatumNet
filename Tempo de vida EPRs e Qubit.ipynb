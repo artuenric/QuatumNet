{
 "cells": [
  {
   "cell_type": "markdown",
   "metadata": {},
   "source": [
    "## <b> Qubits e EPRs expiram </b>\n",
    "Conforme o tempo passa, com o uso do time-slot, os qubits e pares EPR sofrem decoerência. Quando esse tempo é muito longo, os qubits e pares EPR perdem a fidelidade, ou seja, relaxam. Ao atingir uma fidelidade muito baixa, esses recursos são automaticamente excluídos da rede."
   ]
  },
  {
   "cell_type": "code",
   "execution_count": 1,
   "metadata": {},
   "outputs": [],
   "source": [
    "from quantumnet.components import Network\n",
    "from quantumnet.objects import time\n",
    "rede = Network()\n",
    "rede.n_initial_qubits = 10\n",
    "rede.n_initial_eprs = 10\n",
    "rede.set_ready_topology(\"Grade\", (3,4))"
   ]
  },
  {
   "cell_type": "markdown",
   "metadata": {},
   "source": [
    "Acompanhando a memória de um host"
   ]
  },
  {
   "cell_type": "code",
   "execution_count": 2,
   "metadata": {},
   "outputs": [
    {
     "name": "stdout",
     "output_type": "stream",
     "text": [
      "[Time 0]\n",
      "Memória do Host 1 tem 10 qubits\n",
      "[Time 1]\n",
      "Memória do Host 1 tem 11 qubits\n",
      "[Time 2]\n",
      "Memória do Host 1 tem 12 qubits\n",
      "[Time 3]\n",
      "Memória do Host 1 tem 13 qubits\n",
      "[Time 4]\n",
      "Memória do Host 1 tem 14 qubits\n",
      "[Time 5]\n",
      "Memória do Host 1 tem 15 qubits\n",
      "[Time 6]\n",
      "Memória do Host 1 tem 16 qubits\n",
      "[Time 7]\n",
      "Memória do Host 1 tem 17 qubits\n",
      "[Time 8]\n",
      "Memória do Host 1 tem 18 qubits\n",
      "[Time 9]\n",
      "Memória do Host 1 tem 19 qubits\n",
      "[Time 10]\n",
      "Memória do Host 1 tem 15 qubits\n",
      "[Time 11]\n",
      "Memória do Host 1 tem 13 qubits\n",
      "[Time 12]\n",
      "Memória do Host 1 tem 11 qubits\n",
      "[Time 13]\n",
      "Memória do Host 1 tem 10 qubits\n",
      "[Time 14]\n",
      "Memória do Host 1 tem 9 qubits\n",
      "[Time 15]\n",
      "Memória do Host 1 tem 9 qubits\n",
      "[Time 16]\n",
      "Memória do Host 1 tem 9 qubits\n",
      "[Time 17]\n",
      "Memória do Host 1 tem 9 qubits\n",
      "[Time 18]\n",
      "Memória do Host 1 tem 9 qubits\n",
      "[Time 19]\n",
      "Memória do Host 1 tem 9 qubits\n",
      "[Time 20]\n",
      "Memória do Host 1 tem 9 qubits\n",
      "[Time 21]\n",
      "Memória do Host 1 tem 8 qubits\n",
      "[Time 22]\n",
      "Memória do Host 1 tem 7 qubits\n",
      "[Time 23]\n",
      "Memória do Host 1 tem 6 qubits\n",
      "[Time 24]\n",
      "Memória do Host 1 tem 5 qubits\n",
      "[Time 25]\n",
      "Memória do Host 1 tem 4 qubits\n",
      "[Time 26]\n",
      "Memória do Host 1 tem 3 qubits\n",
      "[Time 27]\n",
      "Memória do Host 1 tem 2 qubits\n",
      "[Time 28]\n",
      "Memória do Host 1 tem 1 qubits\n",
      "[Time 29]\n",
      "Memória do Host 1 tem 0 qubits\n",
      "[Time 30]\n",
      "Memória do Host 1 tem 0 qubits\n",
      "[Time 31]\n",
      "Memória do Host 1 tem 0 qubits\n",
      "[Time 32]\n",
      "Memória do Host 1 tem 0 qubits\n",
      "[Time 33]\n",
      "Memória do Host 1 tem 0 qubits\n",
      "[Time 34]\n",
      "Memória do Host 1 tem 0 qubits\n",
      "[Time 35]\n",
      "Memória do Host 1 tem 0 qubits\n",
      "[Time 36]\n",
      "Memória do Host 1 tem 0 qubits\n",
      "[Time 37]\n",
      "Memória do Host 1 tem 0 qubits\n",
      "[Time 38]\n",
      "Memória do Host 1 tem 0 qubits\n",
      "[Time 39]\n",
      "Memória do Host 1 tem 0 qubits\n"
     ]
    }
   ],
   "source": [
    "# Simulando a criação de qubits e pares EPR conforme o tempo passa\n",
    "for i in range(20):\n",
    "    print(f\"[Time {time.get_current_time()}]\")\n",
    "    print(f\"Memória do Host 1 tem {len(rede.get_host(1).memory)} qubits\")\n",
    "    rede.supply_hosts(num_qubits=1)\n",
    "    time.increment()\n",
    "\n",
    "# O tempo passa e a rede não cria mais qubits\n",
    "for i in range(20):\n",
    "    print(f\"[Time {time.get_current_time()}]\")\n",
    "    print(f\"Memória do Host 1 tem {len(rede.get_host(1).memory)} qubits\")\n",
    "    time.increment()"
   ]
  },
  {
   "cell_type": "code",
   "execution_count": 3,
   "metadata": {},
   "outputs": [
    {
     "name": "stdout",
     "output_type": "stream",
     "text": [
      "Host 0 tem 0 qubits\n",
      "Host 1 tem 0 qubits\n",
      "Host 2 tem 0 qubits\n",
      "Host 3 tem 0 qubits\n",
      "Host 4 tem 0 qubits\n",
      "Host 5 tem 0 qubits\n",
      "Host 6 tem 0 qubits\n",
      "Host 7 tem 0 qubits\n",
      "Host 8 tem 0 qubits\n",
      "Host 9 tem 0 qubits\n",
      "Host 10 tem 0 qubits\n",
      "Host 11 tem 0 qubits\n"
     ]
    }
   ],
   "source": [
    "# Todos os hosts\n",
    "for host_id in rede.hosts:\n",
    "    host = rede.get_host(host_id)\n",
    "    print(f\"Host {host_id} tem {len(host.memory)} qubits\")"
   ]
  },
  {
   "cell_type": "markdown",
   "metadata": {},
   "source": [
    "O mesmo ocorre para os pares EPR"
   ]
  },
  {
   "cell_type": "code",
   "execution_count": 4,
   "metadata": {},
   "outputs": [
    {
     "name": "stdout",
     "output_type": "stream",
     "text": [
      "[Time 0]\n",
      "O canal (0,1) tem 1 pares EPR\n",
      "[Time 1]\n",
      "O canal (0,1) tem 2 pares EPR\n",
      "[Time 2]\n",
      "O canal (0,1) tem 3 pares EPR\n",
      "[Time 3]\n",
      "O canal (0,1) tem 4 pares EPR\n",
      "[Time 4]\n",
      "O canal (0,1) tem 5 pares EPR\n",
      "[Time 5]\n",
      "O canal (0,1) tem 6 pares EPR\n",
      "[Time 6]\n",
      "O canal (0,1) tem 7 pares EPR\n",
      "[Time 7]\n",
      "O canal (0,1) tem 8 pares EPR\n",
      "[Time 8]\n",
      "O canal (0,1) tem 9 pares EPR\n",
      "[Time 9]\n",
      "O canal (0,1) tem 10 pares EPR\n",
      "[Time 10]\n",
      "O canal (0,1) tem 10 pares EPR\n",
      "[Time 11]\n",
      "O canal (0,1) tem 8 pares EPR\n",
      "[Time 12]\n",
      "O canal (0,1) tem 7 pares EPR\n",
      "[Time 13]\n",
      "O canal (0,1) tem 6 pares EPR\n",
      "[Time 14]\n",
      "O canal (0,1) tem 6 pares EPR\n",
      "[Time 15]\n",
      "O canal (0,1) tem 4 pares EPR\n",
      "[Time 16]\n",
      "O canal (0,1) tem 3 pares EPR\n",
      "[Time 17]\n",
      "O canal (0,1) tem 2 pares EPR\n",
      "[Time 18]\n",
      "O canal (0,1) tem 1 pares EPR\n",
      "[Time 19]\n",
      "O canal (0,1) tem 0 pares EPR\n"
     ]
    }
   ],
   "source": [
    "time.reset()\n",
    "for i in range(10):\n",
    "    rede.supply_channels(num_eprs=1)\n",
    "    print(f\"[Time {time.get_current_time()}]\")\n",
    "    n_eprs = len(rede.edges[(0,1)]['eprs'])\n",
    "    print(f\"O canal (0,1) tem {n_eprs} pares EPR\")\n",
    "    time.increment()\n",
    "\n",
    "# A rede não cria mais pares EPR\n",
    "for i in range(10):\n",
    "    print(f\"[Time {time.get_current_time()}]\")\n",
    "    n_eprs = len(rede.edges[(0,1)]['eprs'])\n",
    "    print(f\"O canal (0,1) tem {n_eprs} pares EPR\")\n",
    "    time.increment()"
   ]
  },
  {
   "cell_type": "code",
   "execution_count": null,
   "metadata": {},
   "outputs": [],
   "source": []
  }
 ],
 "metadata": {
  "kernelspec": {
   "display_name": ".venv",
   "language": "python",
   "name": "python3"
  },
  "language_info": {
   "codemirror_mode": {
    "name": "ipython",
    "version": 3
   },
   "file_extension": ".py",
   "mimetype": "text/x-python",
   "name": "python",
   "nbconvert_exporter": "python",
   "pygments_lexer": "ipython3",
   "version": "3.13.1"
  }
 },
 "nbformat": 4,
 "nbformat_minor": 2
}
