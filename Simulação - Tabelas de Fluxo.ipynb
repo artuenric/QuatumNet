{
 "cells": [
  {
   "cell_type": "code",
   "execution_count": 1,
   "metadata": {},
   "outputs": [],
   "source": [
    "lista = (1)\n",
    "dic = dict()\n",
    "dic[lista] = 1"
   ]
  },
  {
   "cell_type": "code",
   "execution_count": 2,
   "metadata": {},
   "outputs": [
    {
     "name": "stdout",
     "output_type": "stream",
     "text": [
      "Hosts inicializados\n",
      "Canais inicializados\n",
      "Pares EPRs adicionados\n"
     ]
    },
    {
     "data": {
      "image/png": "[encoded data removed]",
      "text/plain": [
       "<Figure size 640x480 with 1 Axes>"
      ]
     },
     "metadata": {},
     "output_type": "display_data"
    }
   ],
   "source": [
    "from quantumnet.components import Controller, Network, Host\n",
    "rede = Network()\n",
    "controlador = Controller(rede)\n",
    "rede.set_ready_topology(\"Linha\", 2)\n",
    "rede.draw()"
   ]
  },
  {
   "cell_type": "markdown",
   "metadata": {},
   "source": [
    "As decisões são objetos com o método verify que retorna True ou False, dependendo da request recebida. O controlador tem um dicionário cujas chaves são os métodos verify das decisões e os valores são as ações que serão tomadas. "
   ]
  },
  {
   "cell_type": "code",
   "execution_count": 3,
   "metadata": {},
   "outputs": [
    {
     "name": "stdout",
     "output_type": "stream",
     "text": [
      "Aplicando decisão do controlador para a request [1, 0, 1, 2]\n",
      "Decisões: ['Se o destino for 0']\n",
      "Decisão aplicada: (<quantumnet.objects.decision.decisionX.Decision_X object at 0x000002339CAC0D10>,)\n",
      "Ações que devem ser executadas: [<class 'quantumnet.objects.action.create_epr_action.CreateEPRAction'>, <class 'quantumnet.objects.action.swap_action.SwapAction'>, <class 'quantumnet.objects.action.purification_action.PurificationAction'>]\n"
     ]
    }
   ],
   "source": [
    "alice = 1\n",
    "bob = 0\n",
    "fmin = 1\n",
    "eprs = 2\n",
    "request = [alice, bob, fmin, eprs]\n",
    "actions = controlador.apply_decision(request)"
   ]
  },
  {
   "cell_type": "code",
   "execution_count": 4,
   "metadata": {},
   "outputs": [
    {
     "name": "stdout",
     "output_type": "stream",
     "text": [
      "<class 'type'>\n",
      "Estou procurando um match para a request [1, 0, 1, 2]\n"
     ]
    },
    {
     "data": {
      "text/plain": [
       "'Descartar. Origem igual ao destino.'"
      ]
     },
     "execution_count": 4,
     "metadata": {},
     "output_type": "execute_result"
    }
   ],
   "source": [
    "print(type(actions[0]))\n",
    "host0 = rede.get_host(0)\n",
    "host0.find_roule_by_request(request)"
   ]
  },
  {
   "cell_type": "code",
   "execution_count": null,
   "metadata": {},
   "outputs": [],
   "source": []
  },
  {
   "cell_type": "code",
   "execution_count": null,
   "metadata": {},
   "outputs": [],
   "source": []
  }
 ],
 "metadata": {
  "kernelspec": {
   "display_name": "Python 3",
   "language": "python",
   "name": "python3"
  },
  "language_info": {
   "codemirror_mode": {
    "name": "ipython",
    "version": 3
   },
   "file_extension": ".py",
   "mimetype": "text/x-python",
   "name": "python",
   "nbconvert_exporter": "python",
   "pygments_lexer": "ipython3",
   "version": "3.12.0"
  }
 },
 "nbformat": 4,
 "nbformat_minor": 2
}
