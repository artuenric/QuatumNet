{
 "cells": [
  {
   "cell_type": "code",
   "execution_count": 1,
   "metadata": {},
   "outputs": [
    {
     "name": "stdout",
     "output_type": "stream",
     "text": [
      "Hosts inicializados\n",
      "Canais inicializados\n",
      "Pares EPRs adicionados\n"
     ]
    }
   ],
   "source": [
    "from quantumnet.components import Controller, Network\n",
    "from quantumnet.utils import generate_random_request\n",
    "from quantumnet.objects import Request\n",
    "import asyncio\n",
    "\n",
    "rede = Network()\n",
    "controlador = Controller(rede)\n",
    "row, col = 3, 4\n",
    "rede.set_ready_topology(\"Grade\", row, col)\n",
    "# Criação de requisições\n",
    "fmin_range = (0.5, 1)\n",
    "neprs_range = (2, 4)\n",
    "num_requests = 5\n",
    "requests = list(generate_random_request(len(rede.hosts)-1, fmin_range, neprs_range) for i in range(num_requests))"
   ]
  },
  {
   "cell_type": "code",
   "execution_count": 2,
   "metadata": {},
   "outputs": [
    {
     "name": "stdout",
     "output_type": "stream",
     "text": [
      "[Time 0] Request R-55B1D0 recebida.\n",
      "[Time 0] Registrando nova regra para Request R-55B1D0.\n",
      "Decisão aplicada: (Normal E2E,)\n",
      "[Time 1] Request R-018D10 recebida.\n",
      "[Time 2] Request R-5D69C0 recebida.\n",
      "[Time 1] Executando regra para Request R-018D10:\n",
      "Passo: 1\n",
      "Request R-018D10: Start Time = 1, End Time = 2\n",
      "[Time 3] Regra registrada para R-55B1D0, executando:\n",
      "Passo: 1\n",
      "Request R-55B1D0: Start Time = 0, End Time = 3\n",
      "[Time 3] Request R-E22150 recebida.\n",
      "[Time 2] Executando regra para Request R-5D69C0:\n",
      "Passo: 1\n",
      "Request R-5D69C0: Start Time = 2, End Time = 3\n",
      "[Time 3] Executando regra para Request R-E22150:\n",
      "Passo: 1\n",
      "Request R-E22150: Start Time = 3, End Time = 4\n",
      "Simulação concluída!\n"
     ]
    }
   ],
   "source": [
    "# Parte adicional para simulação com timeslot usando programação assíncrona\n",
    "async def process_request(request, rede, controlador, current_time, execution_delay=3):\n",
    "    \"\"\"\n",
    "    Processa uma única request após um delay de registro (3 time-slots).\n",
    "    Se a regra já existe, executa diretamente.\n",
    "    \"\"\"\n",
    "    request.starttime = current_time\n",
    "    alice = rede.get_host(request.alice)\n",
    "    rule = alice.find_rule_by_request(request)\n",
    "    # Caso não exista um match na tabela\n",
    "    if rule is False:\n",
    "        print(f\"[Time {current_time}] Registrando nova regra para Request {request}.\")\n",
    "        controlador.add_match_route_rule_in_host_reactive(request)\n",
    "        await asyncio.sleep(execution_delay)  # Delay para registro\n",
    "        print(f\"[Time {current_time + execution_delay}] Regra registrada para {request}, executando:\")\n",
    "        rule = alice.find_rule_by_request(request)\n",
    "        controlador.run_rule(rule[1])\n",
    "        request.endtime = current_time + execution_delay\n",
    "    # Caso a regra já exista\n",
    "    else:\n",
    "        await asyncio.sleep(1) \n",
    "        print(f\"[Time {current_time}] Executando regra para Request {request}:\")\n",
    "        controlador.run_rule(rule[1])\n",
    "        request.endtime = current_time + 1\n",
    "    print(f\"Request {request}: Start Time = {request.starttime}, End Time = {request.endtime}\")\n",
    "\n",
    "async def simulate_requests_with_timeslots(rede, requests, controlador):\n",
    "    \"\"\"\n",
    "    Simula o processamento de requests com timeslots contínuos usando programação assíncrona.\n",
    "    - As requests são processadas simultaneamente.\n",
    "    - O tempo avança de forma contínua enquanto as requisições são executadas.\n",
    "    \"\"\"\n",
    "    current_time = 0  # Tempo global inicial\n",
    "    tasks = []  # Lista de tarefas assíncronas para execução das requests\n",
    "\n",
    "    while requests or tasks:\n",
    "        # Adicionar nova request ao processamento\n",
    "        if requests:\n",
    "            request = requests.pop(0)\n",
    "            print(f\"[Time {current_time}] Request {request} recebida.\")\n",
    "            task = asyncio.create_task(process_request(request, rede, controlador, current_time))\n",
    "            tasks.append(task)\n",
    "\n",
    "        # Aguarda 1 time-slot antes de avançar o tempo\n",
    "        await asyncio.sleep(1)\n",
    "        current_time += 1\n",
    "\n",
    "        # Filtrar tarefas concluídas\n",
    "        tasks = [task for task in tasks if not task.done()]\n",
    "\n",
    "    print(\"Simulação concluída!\")\n",
    "\n",
    "# Uso da função\n",
    "# asyncio.run(simulate_requests_with_timeslots(rede, requests, controlador))\n",
    "r1 = Request(0, 1, 0.5, 2)\n",
    "r2 = Request(0, 1, 0.5, 2)\n",
    "r3 = Request(0, 1, 0.5, 2)\n",
    "r4 = Request(0, 1, 0.5, 2)\n",
    "requests2 = [r1, r2, r3, r4]\n",
    "await simulate_requests_with_timeslots(rede, requests2, controlador)"
   ]
  },
  {
   "cell_type": "code",
   "execution_count": 3,
   "metadata": {},
   "outputs": [],
   "source": [
    "# Parte adicional para simulação com timeslot\n",
    "def simulate_requests_with_timeslots(rede, requests, controlador):\n",
    "    \"\"\"\n",
    "    Simula o processamento de requests com a introdução de timeslots.\n",
    "    - Demora 1 time-slot se a regra existe.\n",
    "    - Demora 3 time-slots se uma nova regra precisa ser adicionada.\n",
    "    \"\"\"\n",
    "    current_time = 0  # Tempo global da simulação\n",
    "    for request in requests:\n",
    "        alice = rede.get_host(request.alice)\n",
    "        rule = alice.find_rule_by_request(request)\n",
    "\n",
    "        if rule == False:  # Caso não exista um match na tabela\n",
    "            request.starttime = current_time\n",
    "            current_time += 3  # Delay de 3 time-slots para registrar nova regra\n",
    "            controlador.add_match_route_rule_in_host_reactive(request)\n",
    "            request.endtime = current_time\n",
    "        else:  # Caso já exista a regra\n",
    "            request.starttime = current_time\n",
    "            current_time += 1  # Delay de 1 time-slot para execução\n",
    "            controlador.run_rule(rule[1])\n",
    "            request.endtime = current_time\n",
    "        \n",
    "        # Exibir informações da requisição\n",
    "        print(f\"Request {request}: Start Time = {request.starttime}, End Time = {request.endtime}\")"
   ]
  },
  {
   "cell_type": "code",
   "execution_count": 4,
   "metadata": {},
   "outputs": [
    {
     "name": "stdout",
     "output_type": "stream",
     "text": [
      "Decisão aplicada: (High Fidelity,)\n",
      "Request R-A842F0: Start Time = 0, End Time = 3\n",
      "Decisão aplicada: (High Fidelity,)\n",
      "Request R-57E490: Start Time = 3, End Time = 6\n",
      "Decisão aplicada: (Normal E2E,)\n",
      "Request R-57E5D0: Start Time = 6, End Time = 9\n",
      "Decisão aplicada: (Normal E2E,)\n",
      "Request R-576B10: Start Time = 9, End Time = 12\n",
      "Decisão aplicada: (Normal E2E,)\n",
      "Request R-576C40: Start Time = 12, End Time = 15\n"
     ]
    }
   ],
   "source": [
    "simulate_requests_with_timeslots(rede, requests, controlador)"
   ]
  },
  {
   "cell_type": "code",
   "execution_count": 5,
   "metadata": {},
   "outputs": [],
   "source": [
    "# Parte adicional para simulação com timeslot\n",
    "def simulate_requests_with_timeslots(rede, requests, controlador):\n",
    "    \"\"\"\n",
    "    Simula o processamento de requests com timeslots contínuos.\n",
    "    - O tempo passa de 1 em 1 independentemente da requisição.\n",
    "    - Nova regra leva 3 time-slots para ser registrada.\n",
    "    - As regras são executadas no momento correto assim que o tempo alcança o necessário.\n",
    "    \"\"\"\n",
    "    current_time = 0  # Tempo global da simulação\n",
    "    pending_requests = []  # Lista de requisições pendentes para registro\n",
    "    \n",
    "    while requests or pending_requests:\n",
    "        # Processar requests pendentes para execução\n",
    "        for pending in pending_requests[:]:\n",
    "            if pending['start_time'] + 3 == current_time:  # Após 3 time-slots\n",
    "                controlador.add_match_route_rule_in_host_reactive(pending['request'])\n",
    "                pending['request'].endtime = current_time\n",
    "                print(f\"Request {pending['request']}: Start Time = {pending['request'].starttime}, End Time = {pending['request'].endtime}\")\n",
    "                pending_requests.remove(pending)\n",
    "        \n",
    "        # Processar nova requisição apenas se ainda há requests\n",
    "        if requests:\n",
    "            request = requests.pop(0)\n",
    "            alice = rede.get_host(request.alice)\n",
    "            rule = alice.find_rule_by_request(request)\n",
    "            \n",
    "            if rule == False:  # Caso não exista um match na tabela\n",
    "                request.starttime = current_time\n",
    "                pending_requests.append({'request': request, 'start_time': current_time})\n",
    "            else:  # Caso já exista a regra\n",
    "                request.starttime = current_time\n",
    "                controlador.run_rule(rule[1])\n",
    "                request.endtime = current_time + 1\n",
    "                print(f\"Request {request}: Start Time = {request.starttime}, End Time = {request.endtime}\")\n",
    "        \n",
    "        # Incrementar o tempo global\n",
    "        current_time += 1\n",
    "\n",
    "        # Log do tempo atual\n",
    "        print(f\"Time Slot: {current_time}\")"
   ]
  }
 ],
 "metadata": {
  "kernelspec": {
   "display_name": ".venv",
   "language": "python",
   "name": "python3"
  },
  "language_info": {
   "codemirror_mode": {
    "name": "ipython",
    "version": 3
   },
   "file_extension": ".py",
   "mimetype": "text/x-python",
   "name": "python",
   "nbconvert_exporter": "python",
   "pygments_lexer": "ipython3",
   "version": "3.13.1"
  }
 },
 "nbformat": 4,
 "nbformat_minor": 2
}
